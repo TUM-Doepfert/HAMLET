{
 "cells": [
  {
   "metadata": {},
   "cell_type": "markdown",
   "source": "# Simple scenario",
   "id": "52cee6f9fac9b8d8"
  },
  {
   "metadata": {},
   "cell_type": "markdown",
   "source": [
    "## Introduction\n",
    "\n",
    "This notebook is based on the \"create_simple_scenario\" scenario. It expands its functionality by creating the scenario largely from the `electricity.xlsx` file instead of the agent file. This allows to create deterministic grid scenarios from the beginning."
   ],
   "id": "a40d04d2a8e7e84"
  },
  {
   "metadata": {},
   "cell_type": "markdown",
   "source": [
    "### Required Files\n",
    "\n",
    "The scenario setup uses the following files:\n",
    "- **YAML files:** Define configuration for agents (`agents.yaml`), grids (`grids.yaml`), markets (`markets.yaml`), and scenario setup (`setup.yaml`).\n",
    "- **Excel files:** Contain the grid with the agents and their components (`electricity.xlsx`). Missing information is filled using the agents config file.\n",
    "\n",
    "All files are placed in a structured folder (`scenario_with_grid`). Its name will automatically be used for the scenario name (unless overwritten)."
   ],
   "id": "f713a1df4e1705bf"
  },
  {
   "metadata": {
    "ExecuteTime": {
     "end_time": "2025-03-26T13:48:12.175209Z",
     "start_time": "2025-03-26T13:47:59.668390Z"
    }
   },
   "cell_type": "code",
   "source": "from hamlet import Creator, Executor, Analyzer",
   "id": "7a9661ed99114011",
   "outputs": [],
   "execution_count": 2
  },
  {
   "metadata": {},
   "cell_type": "markdown",
   "source": [
    "## Step 1: Scenario Creation\n",
    "\n",
    "This step generates the scenario based on YAML and Excel configurations. This time most of the information stems from the `electricity.xlsx` file as it also contains most of the agent information. "
   ],
   "id": "5d6a032eefeadc54"
  },
  {
   "metadata": {
    "ExecuteTime": {
     "end_time": "2025-03-26T13:48:12.180718Z",
     "start_time": "2025-03-26T13:48:12.176217Z"
    }
   },
   "cell_type": "code",
   "source": [
    "# Path to the scenario configuration folder\n",
    "name = \"scenario_with_grid\"\n",
    "path_configs = f\"./{name}\""
   ],
   "id": "fa6cfa9f90b0fce4",
   "outputs": [],
   "execution_count": 3
  },
  {
   "metadata": {
    "ExecuteTime": {
     "end_time": "2025-03-26T14:27:12.954763Z",
     "start_time": "2025-03-26T14:27:10.350713Z"
    }
   },
   "cell_type": "code",
   "source": [
    "# Instantiate Creator and generate the scenario\n",
    "creator = Creator(path=path_configs)\n",
    "creator.new_scenario_from_grids()"
   ],
   "id": "4014920d7f11679d",
   "outputs": [
    {
     "name": "stderr",
     "output_type": "stream",
     "text": [
      "\n",
      "\n",
      "\n",
      "0it [00:00, ?it/s]\u001B[A\u001B[A\u001B[A\n",
      "\n",
      "\n",
      "  0%|          | 0/8 [00:00<?, ?it/s]\u001B[A\u001B[A\u001B[A\n",
      "\n",
      "\n",
      "Creating the missing agent files::   0%|          | 0/8 [00:00<?, ?it/s]\u001B[A\u001B[A\u001B[A\n",
      "\n",
      "\n",
      "Creating the missing agent files: scenario_with_grid:   0%|          | 0/8 [00:00<?, ?it/s]\u001B[A\u001B[A\u001B[A\n",
      "\n",
      "\n",
      "Creating the missing agent files: scenario_with_grid:  12%|█▎        | 1/8 [00:00<00:02,  2.36it/s]\u001B[A\u001B[A\u001B[A\n",
      "\n",
      "\n",
      "Creating the missing agent files::  12%|█▎        | 1/8 [00:00<00:02,  2.36it/s]                   \u001B[A\u001B[A\u001B[A\n",
      "\n",
      "\n",
      "Creating the folders for the scenario::  12%|█▎        | 1/8 [00:00<00:02,  2.36it/s]\u001B[A\u001B[A\u001B[A\n",
      "\n",
      "\n",
      "Creating the folders for the scenario::  25%|██▌       | 2/8 [00:00<00:01,  4.24it/s]\u001B[A\u001B[A\u001B[A\n",
      "\n",
      "\n",
      "Creating the markets for each region::  25%|██▌       | 2/8 [00:00<00:01,  4.24it/s] \u001B[A\u001B[A\u001B[A\n",
      "\n",
      "\n",
      "Creating the markets for each region: scenario_with_grid:  25%|██▌       | 2/8 [00:00<00:01,  4.24it/s]\u001B[A\u001B[A\u001B[A\n",
      "\n",
      "\n",
      "Creating the markets for each region: scenario_with_grid:  38%|███▊      | 3/8 [00:00<00:00,  5.19it/s]\u001B[A\u001B[A\u001B[A\n",
      "\n",
      "\n",
      "Creating the markets for each region::  38%|███▊      | 3/8 [00:00<00:00,  5.19it/s]                   \u001B[A\u001B[A\u001B[A\n",
      "\n",
      "\n",
      "Creating the agents for each region::  38%|███▊      | 3/8 [00:00<00:00,  5.19it/s] \u001B[A\u001B[A\u001B[A\n",
      "\n",
      "\n",
      "Creating the agents for each region: scenario_with_grid:  38%|███▊      | 3/8 [00:22<00:36,  7.37s/it]\u001B[A\u001B[A\u001B[A\n",
      "Creating the agents for each region: scenario_with_grid:  38%|███▊      | 3/8 [00:47<01:18, 15.71s/it]\n",
      "\n",
      "\n",
      "\n",
      "Creating the agents for each region: scenario_with_grid:  50%|█████     | 4/8 [00:02<00:02,  1.35it/s]\u001B[A\u001B[A\u001B[A\n",
      "\n",
      "\n",
      "Creating the agents for each region::  50%|█████     | 4/8 [00:02<00:02,  1.35it/s]                   \u001B[A\u001B[A\u001B[A\n",
      "\n",
      "\n",
      "Copying the grid files from the input folder to the scenario folder::  50%|█████     | 4/8 [00:02<00:02,  1.35it/s]\u001B[A\u001B[A\u001B[A\n",
      "\n",
      "\n",
      "Copying the grid files from the input folder to the scenario folder: scenario_with_grid:  50%|█████     | 4/8 [00:02<00:02,  1.35it/s]\u001B[A\u001B[A\u001B[A\n",
      "\n",
      "\n",
      "Copying the grid files from the input folder to the scenario folder::  62%|██████▎   | 5/8 [00:02<00:02,  1.35it/s]                   \u001B[A\u001B[A\u001B[A\n",
      "\n",
      "\n",
      "Copying the files from the config folder to the scenario folder::  62%|██████▎   | 5/8 [00:02<00:02,  1.35it/s]    \u001B[A\u001B[A\u001B[A\n",
      "\n",
      "\n",
      "Copying the files from the config folder to the scenario folder: scenario_with_grid:  62%|██████▎   | 5/8 [00:02<00:02,  1.35it/s]\u001B[A\u001B[A\u001B[A\n",
      "\n",
      "\n",
      "Copying the files from the config folder to the scenario folder::  75%|███████▌  | 6/8 [00:02<00:01,  1.35it/s]                   \u001B[A\u001B[A\u001B[A\n",
      "\n",
      "\n",
      "Copying the files from the general config file to the scenario folder::  75%|███████▌  | 6/8 [00:02<00:01,  1.35it/s]\u001B[A\u001B[A\u001B[A\n",
      "\n",
      "\n",
      "Combining the market and grid files::  88%|████████▊ | 7/8 [00:02<00:00,  1.35it/s]                                  \u001B[A\u001B[A\u001B[A\n",
      "\n",
      "\n",
      "Combining the market and grid files:: 100%|██████████| 8/8 [00:02<00:00,  3.49it/s]\u001B[A\u001B[A\u001B[A\n",
      "\n",
      "\n",
      "Successfully created scenario: 100%|██████████| 8/8 [00:02<00:00,  3.49it/s]       \u001B[A\u001B[A\u001B[A"
     ]
    }
   ],
   "execution_count": 8
  },
  {
   "metadata": {},
   "cell_type": "markdown",
   "source": [
    "## Step 3: Scenario Execution (not yet functional)\n",
    "\n",
    "Execute the scenario created previously. Hamlet runs the defined scenario and produces results.\n",
    "\n",
    "The `num_workers` parameter defines how many CPU cores to use for simulation. It is set to one to not call multiprocessing. To use multiprocessing you preferably call it from a python file using the following command:\n",
    "\n",
    "```python\n",
    "\n",
    "if __name__ == \"__main__\":\n",
    "    sim = Executor(path)\n",
    "    sim.run()\n"
   ],
   "id": "569d0670471dcc"
  },
  {
   "metadata": {
    "ExecuteTime": {
     "end_time": "2025-03-26T14:27:18.282829Z",
     "start_time": "2025-03-26T14:27:18.278924Z"
    }
   },
   "cell_type": "code",
   "source": [
    "# Path to the scenario created\n",
    "path_scenario = f\"../../scenarios/{name}\""
   ],
   "id": "7e86ab74409d552c",
   "outputs": [],
   "execution_count": 9
  },
  {
   "metadata": {
    "ExecuteTime": {
     "end_time": "2025-03-26T14:27:23.388375Z",
     "start_time": "2025-03-26T14:27:18.916816Z"
    }
   },
   "cell_type": "code",
   "source": [
    "# Instantiate Executor and run the simulation\n",
    "executor = Executor(path_scenario, num_workers=1)\n",
    "executor.run()"
   ],
   "id": "b6914b3dd53dac0b",
   "outputs": [
    {
     "name": "stderr",
     "output_type": "stream",
     "text": [
      "\n",
      "0it [00:00, ?it/s]\u001B[A\n",
      "  0%|          | 0/24 [00:00<?, ?it/s]\u001B[A\n",
      "Start execution:   0%|          | 0/24 [00:00<?, ?it/s]\u001B[A\n",
      "Executing timestamp 2021-03-23 23:00:00+00:00 for region_tasks scenario_with_grid:   0%|          | 0/24 [00:00<?, ?it/s]\u001B[A\n",
      "Executing timestamp 2021-03-23 23:00:00+00:00 for grid:   0%|          | 0/24 [00:03<?, ?it/s]                           \u001B[A"
     ]
    },
    {
     "ename": "KeyError",
     "evalue": "'example_grid'",
     "output_type": "error",
     "traceback": [
      "\u001B[1;31m---------------------------------------------------------------------------\u001B[0m",
      "\u001B[1;31mKeyError\u001B[0m                                  Traceback (most recent call last)",
      "Cell \u001B[1;32mIn[10], line 3\u001B[0m\n\u001B[0;32m      1\u001B[0m \u001B[38;5;66;03m# Instantiate Executor and run the simulation\u001B[39;00m\n\u001B[0;32m      2\u001B[0m executor \u001B[38;5;241m=\u001B[39m Executor(path_scenario, num_workers\u001B[38;5;241m=\u001B[39m\u001B[38;5;241m1\u001B[39m)\n\u001B[1;32m----> 3\u001B[0m executor\u001B[38;5;241m.\u001B[39mrun()\n",
      "File \u001B[1;32m~\\Documents\\Python Scripts\\HAMLET-gitlab\\hamlet\\executor\\setup.py:71\u001B[0m, in \u001B[0;36mExecutor.run\u001B[1;34m(self)\u001B[0m\n\u001B[0;32m     68\u001B[0m \u001B[38;5;250m\u001B[39m\u001B[38;5;124;03m\"\"\"Runs the simulation\"\"\"\u001B[39;00m\n\u001B[0;32m     69\u001B[0m \u001B[38;5;28mself\u001B[39m\u001B[38;5;241m.\u001B[39msetup()\n\u001B[1;32m---> 71\u001B[0m \u001B[38;5;28mself\u001B[39m\u001B[38;5;241m.\u001B[39mexecute()\n\u001B[0;32m     73\u001B[0m \u001B[38;5;28mself\u001B[39m\u001B[38;5;241m.\u001B[39mcleanup()\n",
      "File \u001B[1;32m~\\Documents\\Python Scripts\\HAMLET-gitlab\\hamlet\\executor\\setup.py:129\u001B[0m, in \u001B[0;36mExecutor.execute\u001B[1;34m(self)\u001B[0m\n\u001B[0;32m    127\u001B[0m         \u001B[38;5;66;03m# Calculate the grids for the current timestamp (calculated together as they are connected)\u001B[39;00m\n\u001B[0;32m    128\u001B[0m         \u001B[38;5;28mself\u001B[39m\u001B[38;5;241m.\u001B[39mpbar\u001B[38;5;241m.\u001B[39mset_description(\u001B[38;5;124m'\u001B[39m\u001B[38;5;124mExecuting timestamp \u001B[39m\u001B[38;5;124m'\u001B[39m \u001B[38;5;241m+\u001B[39m timestamp_str \u001B[38;5;241m+\u001B[39m \u001B[38;5;124m'\u001B[39m\u001B[38;5;124m for grid\u001B[39m\u001B[38;5;124m'\u001B[39m)\n\u001B[1;32m--> 129\u001B[0m         grid_ok \u001B[38;5;241m=\u001B[39m \u001B[38;5;28mself\u001B[39m\u001B[38;5;241m.\u001B[39m__execute_grids(tasklist\u001B[38;5;241m=\u001B[39mtimestamp, initial_db\u001B[38;5;241m=\u001B[39minitial_db, num_iteration\u001B[38;5;241m=\u001B[39mnum_iteration)\n\u001B[0;32m    131\u001B[0m     \u001B[38;5;28mself\u001B[39m\u001B[38;5;241m.\u001B[39mpbar\u001B[38;5;241m.\u001B[39mupdate(\u001B[38;5;241m1\u001B[39m)\n\u001B[0;32m    133\u001B[0m \u001B[38;5;66;03m# Cleanup the parallel pool\u001B[39;00m\n",
      "File \u001B[1;32m~\\Documents\\Python Scripts\\HAMLET-gitlab\\hamlet\\executor\\setup.py:165\u001B[0m, in \u001B[0;36mExecutor.__execute_grids\u001B[1;34m(self, tasklist, initial_db, num_iteration)\u001B[0m\n\u001B[0;32m    162\u001B[0m grid_ok \u001B[38;5;241m=\u001B[39m \u001B[38;5;28;01mTrue\u001B[39;00m  \u001B[38;5;66;03m# set a base variable for grid status\u001B[39;00m\n\u001B[0;32m    163\u001B[0m \u001B[38;5;28;01mfor\u001B[39;00m grid_type, grid_db \u001B[38;5;129;01min\u001B[39;00m grids_data\u001B[38;5;241m.\u001B[39mitems():   \u001B[38;5;66;03m# iterate through all grid types\u001B[39;00m\n\u001B[0;32m    164\u001B[0m     result, single_grid_ok \u001B[38;5;241m=\u001B[39m Grid(grid_db\u001B[38;5;241m=\u001B[39mgrid_db, tasks\u001B[38;5;241m=\u001B[39mtasklist, grid_type\u001B[38;5;241m=\u001B[39mgrid_type,\n\u001B[1;32m--> 165\u001B[0m                                   database\u001B[38;5;241m=\u001B[39m\u001B[38;5;28mself\u001B[39m\u001B[38;5;241m.\u001B[39mdatabase)\u001B[38;5;241m.\u001B[39mexecute()\n\u001B[0;32m    167\u001B[0m     grid_ok \u001B[38;5;241m=\u001B[39m grid_ok \u001B[38;5;129;01mand\u001B[39;00m single_grid_ok    \u001B[38;5;66;03m# each grid should be ok\u001B[39;00m\n\u001B[0;32m    169\u001B[0m     grid_results[grid_type] \u001B[38;5;241m=\u001B[39m result\n",
      "File \u001B[1;32m~\\Documents\\Python Scripts\\HAMLET-gitlab\\hamlet\\executor\\grids\\grid.py:36\u001B[0m, in \u001B[0;36mGrid.execute\u001B[1;34m(self)\u001B[0m\n\u001B[0;32m     33\u001B[0m \u001B[38;5;28;01mdef\u001B[39;00m \u001B[38;5;21mexecute\u001B[39m(\u001B[38;5;28mself\u001B[39m):\n\u001B[0;32m     34\u001B[0m \u001B[38;5;250m    \u001B[39m\u001B[38;5;124;03m\"\"\"Executes the grid\"\"\"\u001B[39;00m\n\u001B[1;32m---> 36\u001B[0m     \u001B[38;5;28;01mreturn\u001B[39;00m \u001B[38;5;28mself\u001B[39m\u001B[38;5;241m.\u001B[39mgrid\u001B[38;5;241m.\u001B[39mexecute()\n",
      "File \u001B[1;32m~\\Documents\\Python Scripts\\HAMLET-gitlab\\hamlet\\executor\\grids\\electricity.py:50\u001B[0m, in \u001B[0;36mElectricity.execute\u001B[1;34m(self)\u001B[0m\n\u001B[0;32m     47\u001B[0m grid_ok \u001B[38;5;241m=\u001B[39m \u001B[38;5;28;01mTrue\u001B[39;00m\n\u001B[0;32m     49\u001B[0m \u001B[38;5;66;03m# Convert trade data to grid parameters\u001B[39;00m\n\u001B[1;32m---> 50\u001B[0m \u001B[38;5;28mself\u001B[39m\u001B[38;5;241m.\u001B[39mgrid \u001B[38;5;241m=\u001B[39m \u001B[38;5;28mself\u001B[39m\u001B[38;5;241m.\u001B[39m_write_grid_parameters(deepcopy(\u001B[38;5;28mself\u001B[39m\u001B[38;5;241m.\u001B[39mgrid))\n\u001B[0;32m     52\u001B[0m \u001B[38;5;66;03m# Calculate the power flows\u001B[39;00m\n\u001B[0;32m     53\u001B[0m \u001B[38;5;28mself\u001B[39m\u001B[38;5;241m.\u001B[39m_calculate_powerflow()\n",
      "File \u001B[1;32m~\\Documents\\Python Scripts\\HAMLET-gitlab\\hamlet\\executor\\grids\\electricity.py:72\u001B[0m, in \u001B[0;36mElectricity._write_grid_parameters\u001B[1;34m(self, grid, is_timeseries)\u001B[0m\n\u001B[0;32m     70\u001B[0m \u001B[38;5;250m\u001B[39m\u001B[38;5;124;03m\"\"\"Write grid parameters for a single timestamp.\"\"\"\u001B[39;00m\n\u001B[0;32m     71\u001B[0m \u001B[38;5;66;03m# Process loads\u001B[39;00m\n\u001B[1;32m---> 72\u001B[0m grid \u001B[38;5;241m=\u001B[39m \u001B[38;5;28mself\u001B[39m\u001B[38;5;241m.\u001B[39m__process_elements(\n\u001B[0;32m     73\u001B[0m     grid\u001B[38;5;241m=\u001B[39mgrid,\n\u001B[0;32m     74\u001B[0m     df\u001B[38;5;241m=\u001B[39mgrid\u001B[38;5;241m.\u001B[39mload\u001B[38;5;241m.\u001B[39mcopy(),\n\u001B[0;32m     75\u001B[0m     element_name\u001B[38;5;241m=\u001B[39m\u001B[38;5;124m'\u001B[39m\u001B[38;5;124mload\u001B[39m\u001B[38;5;124m'\u001B[39m,\n\u001B[0;32m     76\u001B[0m     power_sign\u001B[38;5;241m=\u001B[39m\u001B[38;5;241m-\u001B[39m\u001B[38;5;241m1\u001B[39m,\n\u001B[0;32m     77\u001B[0m     type_field\u001B[38;5;241m=\u001B[39m\u001B[38;5;124m'\u001B[39m\u001B[38;5;124mload_type\u001B[39m\u001B[38;5;124m'\u001B[39m,\n\u001B[0;32m     78\u001B[0m     is_timeseries\u001B[38;5;241m=\u001B[39mis_timeseries\n\u001B[0;32m     79\u001B[0m )\n\u001B[0;32m     81\u001B[0m \u001B[38;5;66;03m# Process sgens\u001B[39;00m\n\u001B[0;32m     82\u001B[0m grid \u001B[38;5;241m=\u001B[39m \u001B[38;5;28mself\u001B[39m\u001B[38;5;241m.\u001B[39m__process_elements(\n\u001B[0;32m     83\u001B[0m     grid\u001B[38;5;241m=\u001B[39mgrid,\n\u001B[0;32m     84\u001B[0m     df\u001B[38;5;241m=\u001B[39mgrid\u001B[38;5;241m.\u001B[39msgen\u001B[38;5;241m.\u001B[39mcopy(),\n\u001B[1;32m   (...)\u001B[0m\n\u001B[0;32m     88\u001B[0m     is_timeseries\u001B[38;5;241m=\u001B[39mis_timeseries\n\u001B[0;32m     89\u001B[0m )\n",
      "File \u001B[1;32m~\\Documents\\Python Scripts\\HAMLET-gitlab\\hamlet\\executor\\grids\\electricity.py:142\u001B[0m, in \u001B[0;36mElectricity.__process_elements\u001B[1;34m(self, grid, df, element_name, power_sign, type_field, is_timeseries)\u001B[0m\n\u001B[0;32m    140\u001B[0m region \u001B[38;5;241m=\u001B[39m agent_elements[\u001B[38;5;124m'\u001B[39m\u001B[38;5;124mzone\u001B[39m\u001B[38;5;124m'\u001B[39m]\u001B[38;5;241m.\u001B[39miloc[\u001B[38;5;241m0\u001B[39m]\n\u001B[0;32m    141\u001B[0m agent_type \u001B[38;5;241m=\u001B[39m agent_elements[\u001B[38;5;124m'\u001B[39m\u001B[38;5;124magent_type\u001B[39m\u001B[38;5;124m'\u001B[39m]\u001B[38;5;241m.\u001B[39miloc[\u001B[38;5;241m0\u001B[39m]\n\u001B[1;32m--> 142\u001B[0m agent_db \u001B[38;5;241m=\u001B[39m \u001B[38;5;28mself\u001B[39m\u001B[38;5;241m.\u001B[39mdatabase\u001B[38;5;241m.\u001B[39mget_agent_data(region\u001B[38;5;241m=\u001B[39mregion, agent_type\u001B[38;5;241m=\u001B[39magent_type, agent_id\u001B[38;5;241m=\u001B[39magent_id)\n\u001B[0;32m    144\u001B[0m \u001B[38;5;66;03m# get setpoints data from agent db object depending on whether calculating timeseries\u001B[39;00m\n\u001B[0;32m    145\u001B[0m setpoints \u001B[38;5;241m=\u001B[39m agent_db\u001B[38;5;241m.\u001B[39msetpoints\u001B[38;5;241m.\u001B[39mto_pandas()\n",
      "File \u001B[1;32m~\\Documents\\Python Scripts\\HAMLET-gitlab\\hamlet\\executor\\utilities\\database\\database.py:105\u001B[0m, in \u001B[0;36mDatabase.get_agent_data\u001B[1;34m(self, region, agent_type, agent_id)\u001B[0m\n\u001B[0;32m    103\u001B[0m     \u001B[38;5;28;01mreturn\u001B[39;00m \u001B[38;5;28mself\u001B[39m\u001B[38;5;241m.\u001B[39m__regions[region]\u001B[38;5;241m.\u001B[39magents[agent_type]\n\u001B[0;32m    104\u001B[0m \u001B[38;5;28;01melif\u001B[39;00m agent_type \u001B[38;5;129;01mand\u001B[39;00m agent_id:\n\u001B[1;32m--> 105\u001B[0m     \u001B[38;5;28;01mreturn\u001B[39;00m \u001B[38;5;28mself\u001B[39m\u001B[38;5;241m.\u001B[39m__regions[region]\u001B[38;5;241m.\u001B[39magents[agent_type][agent_id]\n\u001B[0;32m    106\u001B[0m \u001B[38;5;28;01melif\u001B[39;00m \u001B[38;5;129;01mnot\u001B[39;00m agent_type \u001B[38;5;129;01mand\u001B[39;00m agent_id:\n\u001B[0;32m    107\u001B[0m     \u001B[38;5;28;01mfor\u001B[39;00m agent_type \u001B[38;5;129;01min\u001B[39;00m \u001B[38;5;28mself\u001B[39m\u001B[38;5;241m.\u001B[39m__regions[region]\u001B[38;5;241m.\u001B[39magents\u001B[38;5;241m.\u001B[39mkeys():\n",
      "\u001B[1;31mKeyError\u001B[0m: 'example_grid'"
     ]
    }
   ],
   "execution_count": 10
  },
  {
   "metadata": {},
   "cell_type": "markdown",
   "source": [
    "## Step 4: Scenario Analysis (not yet functional)\n",
    "\n",
    "Analyze and visualize the results obtained from scenario execution.\n",
    "\n",
    "The analysis provides visual insights into scenario outcomes, which helps understand scenario dynamics and performance."
   ],
   "id": "c36e8cb1ac7e45e8"
  },
  {
   "metadata": {},
   "cell_type": "code",
   "source": [
    "# Path to simulation results\n",
    "path_results = f\"../../results/{name}\""
   ],
   "id": "f6071a6fa6329ed5",
   "outputs": [],
   "execution_count": null
  },
  {
   "metadata": {
    "ExecuteTime": {
     "end_time": "2025-03-25T17:13:41.337695Z",
     "start_time": "2025-03-25T17:13:41.337695Z"
    }
   },
   "cell_type": "code",
   "source": [
    "# Instantiate Analyzer and visualize results\n",
    "analyzer = Analyzer(path_results)\n",
    "analyzer.plot_general_analysis()"
   ],
   "id": "76b4578a54b10ef8",
   "outputs": [],
   "execution_count": null
  }
 ],
 "metadata": {
  "kernelspec": {
   "display_name": "Python 3",
   "language": "python",
   "name": "python3"
  },
  "language_info": {
   "codemirror_mode": {
    "name": "ipython",
    "version": 2
   },
   "file_extension": ".py",
   "mimetype": "text/x-python",
   "name": "python",
   "nbconvert_exporter": "python",
   "pygments_lexer": "ipython2",
   "version": "2.7.6"
  }
 },
 "nbformat": 4,
 "nbformat_minor": 5
}
