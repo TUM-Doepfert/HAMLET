{
 "cells": [
  {
   "metadata": {},
   "cell_type": "markdown",
   "source": "# Simple scenario",
   "id": "52cee6f9fac9b8d8"
  },
  {
   "metadata": {},
   "cell_type": "markdown",
   "source": [
    "## Introduction\n",
    "\n",
    "This notebook demonstrates how to set up, execute, and analyze a scenario using the Hamlet tool. Hamlet simplifies simulation processes for energy system scenarios. In this tutorial, we walk through a basic scenario, explaining the required input files and demonstrating the scenario lifecycle."
   ],
   "id": "a40d04d2a8e7e84"
  },
  {
   "metadata": {},
   "cell_type": "markdown",
   "source": [
    "### Required Files\n",
    "\n",
    "The scenario setup uses the following files:\n",
    "- **YAML files:** Define configuration for agents (`agents.yaml`), grids (`grids.yaml`), markets (`markets.yaml`), and scenario setup (`setup.yaml`).\n",
    "- **Excel files:** Contain structured data for agents (`agents.xlsx`).\n",
    "\n",
    "All files are placed in a structured folder (`single_market`). Its name will automatically be used for the scenario name (unless overwritten)."
   ],
   "id": "f713a1df4e1705bf"
  },
  {
   "metadata": {
    "ExecuteTime": {
     "end_time": "2025-03-25T17:13:30.639829Z",
     "start_time": "2025-03-25T17:13:30.636183Z"
    }
   },
   "cell_type": "code",
   "source": "from hamlet import Creator, Executor, Analyzer",
   "id": "7a9661ed99114011",
   "outputs": [],
   "execution_count": 14
  },
  {
   "metadata": {},
   "cell_type": "markdown",
   "source": [
    "## Step 1: Scenario Creation\n",
    "\n",
    "This step generates the scenario based on YAML and Excel configurations."
   ],
   "id": "5d6a032eefeadc54"
  },
  {
   "metadata": {
    "ExecuteTime": {
     "end_time": "2025-03-25T17:13:30.662411Z",
     "start_time": "2025-03-25T17:13:30.658839Z"
    }
   },
   "cell_type": "code",
   "source": [
    "# Path to the scenario configuration folder\n",
    "path_configs = \"./single_market\""
   ],
   "id": "fa6cfa9f90b0fce4",
   "outputs": [],
   "execution_count": 15
  },
  {
   "metadata": {
    "ExecuteTime": {
     "end_time": "2025-03-25T17:13:33.475360Z",
     "start_time": "2025-03-25T17:13:30.664423Z"
    }
   },
   "cell_type": "code",
   "source": [
    "# Instantiate Creator and generate the scenario\n",
    "creator = Creator(path=path_configs)\n",
    "creator.new_scenario_from_configs()"
   ],
   "id": "4014920d7f11679d",
   "outputs": [
    {
     "name": "stderr",
     "output_type": "stream",
     "text": [
      "\n",
      "\n",
      "Successfully created scenario: 100%|██████████| 9/9 [01:59<00:00, 13.33s/it]\n",
      "\n",
      "\n",
      "  0%|          | 0/9 [00:00<?, ?it/s]\u001B[A\u001B[A\n",
      "\n",
      "Creating the missing agent files::   0%|          | 0/9 [00:00<?, ?it/s]\u001B[A\u001B[A\n",
      "\n",
      "Creating the missing agent files: single_market:   0%|          | 0/9 [00:00<?, ?it/s]\u001B[A\u001B[A\n",
      "\n",
      "Creating the missing agent files: single_market:  11%|█         | 1/9 [00:00<00:02,  3.32it/s]\u001B[A\u001B[A\n",
      "\n",
      "Creating the missing agent files::  11%|█         | 1/9 [00:00<00:02,  3.32it/s]              \u001B[A\u001B[A\n",
      "\n",
      "Creating the missing grid files::  11%|█         | 1/9 [00:00<00:02,  3.32it/s] \u001B[A\u001B[A\n",
      "\n",
      "Creating the missing grid files: single_market:  11%|█         | 1/9 [00:00<00:02,  3.32it/s]\u001B[A\u001B[A\n",
      "\n",
      "Creating the missing grid files::  22%|██▏       | 2/9 [00:00<00:02,  3.32it/s]              \u001B[A\u001B[A\n",
      "\n",
      "Creating the folders for the scenario::  22%|██▏       | 2/9 [00:00<00:02,  3.32it/s]\u001B[A\u001B[A\n",
      "\n",
      "Creating the folders for the scenario::  33%|███▎      | 3/9 [00:00<00:00,  8.09it/s]\u001B[A\u001B[A\n",
      "\n",
      "Creating the markets for each region::  33%|███▎      | 3/9 [00:00<00:00,  8.09it/s] \u001B[A\u001B[A\n",
      "\n",
      "Creating the markets for each region: single_market:  33%|███▎      | 3/9 [00:00<00:00,  8.09it/s]\u001B[A\u001B[A\n",
      "\n",
      "Creating the markets for each region::  44%|████▍     | 4/9 [00:00<00:00,  8.09it/s]              \u001B[A\u001B[A\n",
      "\n",
      "Creating the agents for each region::  44%|████▍     | 4/9 [00:00<00:00,  8.09it/s] \u001B[A\u001B[A\n",
      "\n",
      "Executing timestamp 2021-03-23 23:00:00+00:00 for region_tasks single_market:   0%|          | 0/24 [04:07<?, ?it/s]\n",
      "\n",
      "\n",
      "Creating the agents for each region: single_market:  56%|█████▌    | 5/9 [00:02<00:02,  1.54it/s]\u001B[A\u001B[A\n",
      "\n",
      "Creating the agents for each region::  56%|█████▌    | 5/9 [00:02<00:02,  1.54it/s]              \u001B[A\u001B[A\n",
      "\n",
      "Copying the grid files from the input folder to the scenario folder::  56%|█████▌    | 5/9 [00:02<00:02,  1.54it/s]\u001B[A\u001B[A\n",
      "\n",
      "Copying the grid files from the input folder to the scenario folder: single_market:  56%|█████▌    | 5/9 [00:02<00:02,  1.54it/s]\u001B[A\u001B[A\n",
      "\n",
      "Copying the grid files from the input folder to the scenario folder::  67%|██████▋   | 6/9 [00:02<00:01,  1.54it/s]              \u001B[A\u001B[A\n",
      "\n",
      "Copying the files from the config folder to the scenario folder::  67%|██████▋   | 6/9 [00:02<00:01,  1.54it/s]    \u001B[A\u001B[A\n",
      "\n",
      "Copying the files from the config folder to the scenario folder: single_market:  67%|██████▋   | 6/9 [00:02<00:01,  1.54it/s]\u001B[A\u001B[A\n",
      "\n",
      "Copying the files from the config folder to the scenario folder::  78%|███████▊  | 7/9 [00:02<00:01,  1.54it/s]              \u001B[A\u001B[A\n",
      "\n",
      "Copying the files from the general config file to the scenario folder::  78%|███████▊  | 7/9 [00:02<00:01,  1.54it/s]\u001B[A\u001B[A\n",
      "\n",
      "Combining the market and grid files::  89%|████████▉ | 8/9 [00:02<00:00,  1.54it/s]                                  \u001B[A\u001B[A\n",
      "\n",
      "Successfully created scenario: 100%|██████████| 9/9 [00:02<00:00,  1.54it/s]       \u001B[A\u001B[A"
     ]
    }
   ],
   "execution_count": 16
  },
  {
   "metadata": {},
   "cell_type": "markdown",
   "source": [
    "**Alternative Creation Methods:**\n",
    "- `creator.new_scenario_from_grids()`: Create a scenario from the electricity grid file (see example \"single_market_with_grid\")\n",
    "- `creator.new_scenario_from_files()`: Create a scenario from the agent.xlsx file instead of the agent.yaml file. This allows you to fine-tune a scenario before creating a scenario from it."
   ],
   "id": "7a7cfb8da9b3a771"
  },
  {
   "metadata": {},
   "cell_type": "markdown",
   "source": [
    "## Step 2: Scenario Execution\n",
    "\n",
    "Execute the scenario created previously. Hamlet runs the defined scenario and produces results.\n",
    "\n",
    "The `num_workers` parameter defines how many CPU cores to use for simulation. It is set to one to not call multiprocessing. To use multiprocessing you need to call it from a python file using the following command:\n",
    "\n",
    "```python\n",
    "\n",
    "if __name__ == \"__main__\":\n",
    "    sim = Executor(path)\n",
    "    sim.run()\n"
   ],
   "id": "569d0670471dcc"
  },
  {
   "metadata": {
    "ExecuteTime": {
     "end_time": "2025-03-25T17:13:33.479730Z",
     "start_time": "2025-03-25T17:13:33.476368Z"
    }
   },
   "cell_type": "code",
   "source": [
    "# Path to the scenario created\n",
    "path_scenario = \"../../scenarios/single_market\""
   ],
   "id": "7e86ab74409d552c",
   "outputs": [],
   "execution_count": 17
  },
  {
   "metadata": {
    "ExecuteTime": {
     "end_time": "2025-03-25T17:13:41.335682Z",
     "start_time": "2025-03-25T17:13:33.481804Z"
    }
   },
   "cell_type": "code",
   "source": [
    "# Instantiate Executor and run the simulation\n",
    "executor = Executor(path_scenario, num_workers=2)\n",
    "executor.run()"
   ],
   "id": "b6914b3dd53dac0b",
   "outputs": [
    {
     "name": "stderr",
     "output_type": "stream",
     "text": [
      "Executing timestamp 2021-03-23 23:00:00+00:00 for region_tasks single_market:   0%|          | 0/24 [00:00<?, ?it/s]"
     ]
    },
    {
     "ename": "FileNotFoundError",
     "evalue": "[Errno 2] The system cannot find the path specified: '../../results\\\\single_market\\\\grids'",
     "output_type": "error",
     "traceback": [
      "\u001B[1;31m---------------------------------------------------------------------------\u001B[0m",
      "\u001B[1;31mRemoteTraceback\u001B[0m                           Traceback (most recent call last)",
      "\u001B[1;31mRemoteTraceback\u001B[0m: \n\"\"\"\nTraceback (most recent call last):\n  File \"C:\\Users\\ge23nur\\anaconda3\\envs\\hamlet311\\Lib\\multiprocessing\\pool.py\", line 125, in worker\n    result = (True, func(*args, **kwds))\n                    ^^^^^^^^^^^^^^^^^^^\n  File \"C:\\Users\\ge23nur\\anaconda3\\envs\\hamlet311\\Lib\\multiprocessing\\pool.py\", line 48, in mapstar\n    return list(map(*args))\n           ^^^^^^^^^^^^^^^^\n  File \"C:\\Users\\ge23nur\\Documents\\Python Scripts\\HAMLET-gitlab\\hamlet\\executor\\utilities\\tasks_execution\\agent_pool.py\", line 25, in task\n    grid_commands = get_grid_restriction_commands(region_path)\n                    ^^^^^^^^^^^^^^^^^^^^^^^^^^^^^^^^^^^^^^^^^^\n  File \"C:\\Users\\ge23nur\\Documents\\Python Scripts\\HAMLET-gitlab\\hamlet\\executor\\utilities\\tasks_execution\\agent_pool.py\", line 88, in get_grid_restriction_commands\n    file_names = os.listdir(os.path.join(region_path, 'grids'))     # list all files\n                 ^^^^^^^^^^^^^^^^^^^^^^^^^^^^^^^^^^^^^^^^^^^^^^\nFileNotFoundError: [WinError 3] The system cannot find the path specified: '../../results\\\\single_market\\\\grids'\n\"\"\"",
      "\nThe above exception was the direct cause of the following exception:\n",
      "\u001B[1;31mFileNotFoundError\u001B[0m                         Traceback (most recent call last)",
      "Cell \u001B[1;32mIn[18], line 3\u001B[0m\n\u001B[0;32m      1\u001B[0m \u001B[38;5;66;03m# Instantiate Executor and run the simulation\u001B[39;00m\n\u001B[0;32m      2\u001B[0m executor \u001B[38;5;241m=\u001B[39m Executor(path_scenario, num_workers\u001B[38;5;241m=\u001B[39m\u001B[38;5;241m2\u001B[39m)\n\u001B[1;32m----> 3\u001B[0m executor\u001B[38;5;241m.\u001B[39mrun()\n",
      "File \u001B[1;32m~\\Documents\\Python Scripts\\HAMLET-gitlab\\hamlet\\executor\\setup.py:80\u001B[0m, in \u001B[0;36mExecutor.run\u001B[1;34m(self)\u001B[0m\n\u001B[0;32m     77\u001B[0m \u001B[38;5;250m\u001B[39m\u001B[38;5;124;03m\"\"\"Runs the simulation\"\"\"\u001B[39;00m\n\u001B[0;32m     78\u001B[0m \u001B[38;5;28mself\u001B[39m\u001B[38;5;241m.\u001B[39msetup()\n\u001B[1;32m---> 80\u001B[0m \u001B[38;5;28mself\u001B[39m\u001B[38;5;241m.\u001B[39mexecute()\n\u001B[0;32m     82\u001B[0m \u001B[38;5;28mself\u001B[39m\u001B[38;5;241m.\u001B[39mcleanup()\n",
      "File \u001B[1;32m~\\Documents\\Python Scripts\\HAMLET-gitlab\\hamlet\\executor\\setup.py:133\u001B[0m, in \u001B[0;36mExecutor.execute\u001B[1;34m(self)\u001B[0m\n\u001B[0;32m    129\u001B[0m     \u001B[38;5;28mself\u001B[39m\u001B[38;5;241m.\u001B[39mpbar\u001B[38;5;241m.\u001B[39mset_description(\n\u001B[0;32m    130\u001B[0m         \u001B[38;5;124m'\u001B[39m\u001B[38;5;124mExecuting timestamp \u001B[39m\u001B[38;5;124m'\u001B[39m \u001B[38;5;241m+\u001B[39m timestamp_str \u001B[38;5;241m+\u001B[39m \u001B[38;5;124m'\u001B[39m\u001B[38;5;124m for region_tasks \u001B[39m\u001B[38;5;124m'\u001B[39m \u001B[38;5;241m+\u001B[39m region_name)\n\u001B[0;32m    132\u001B[0m     \u001B[38;5;66;03m# Execute agent and market tasks\u001B[39;00m\n\u001B[1;32m--> 133\u001B[0m     \u001B[38;5;28mself\u001B[39m\u001B[38;5;241m.\u001B[39magent_task_executioner\u001B[38;5;241m.\u001B[39mexecute(region_tasks)\n\u001B[0;32m    134\u001B[0m     \u001B[38;5;28mself\u001B[39m\u001B[38;5;241m.\u001B[39mmarket_task_executioner\u001B[38;5;241m.\u001B[39mexecute(region_tasks)\n\u001B[0;32m    136\u001B[0m \u001B[38;5;66;03m# Calculate the grids for the current timestamp (calculated together as they are connected)\u001B[39;00m\n",
      "File \u001B[1;32m~\\Documents\\Python Scripts\\HAMLET-gitlab\\hamlet\\executor\\utilities\\tasks_execution\\task_executioner.py:48\u001B[0m, in \u001B[0;36mTaskExecutioner.execute\u001B[1;34m(self, tasks)\u001B[0m\n\u001B[0;32m     46\u001B[0m     \u001B[38;5;28mself\u001B[39m\u001B[38;5;241m.\u001B[39mpool\u001B[38;5;241m.\u001B[39mupdate_num_workers(\u001B[38;5;28mself\u001B[39m\u001B[38;5;241m.\u001B[39mnum_workers)\n\u001B[0;32m     47\u001B[0m     \u001B[38;5;66;03m# Execute multiprocessing pool\u001B[39;00m\n\u001B[1;32m---> 48\u001B[0m     results \u001B[38;5;241m=\u001B[39m \u001B[38;5;28mself\u001B[39m\u001B[38;5;241m.\u001B[39mpool\u001B[38;5;241m.\u001B[39mexecute(para_tasks)\n\u001B[0;32m     49\u001B[0m \u001B[38;5;66;03m# Postprocess results of tasks execution\u001B[39;00m\n\u001B[0;32m     50\u001B[0m \u001B[38;5;28mself\u001B[39m\u001B[38;5;241m.\u001B[39mpostprocess_results(tasks, results)\n",
      "File \u001B[1;32m~\\Documents\\Python Scripts\\HAMLET-gitlab\\hamlet\\executor\\utilities\\tasks_execution\\process_pool.py:44\u001B[0m, in \u001B[0;36mProcessPool.execute\u001B[1;34m(self, task_args)\u001B[0m\n\u001B[0;32m     39\u001B[0m     chunksize \u001B[38;5;241m+\u001B[39m\u001B[38;5;241m=\u001B[39m \u001B[38;5;241m1\u001B[39m\n\u001B[0;32m     41\u001B[0m \u001B[38;5;66;03m# TODO: strongly recommend remove the try - except here since otherwise this function will return a None and further debug will be annoying\u001B[39;00m\n\u001B[0;32m     42\u001B[0m \u001B[38;5;66;03m# try:\u001B[39;00m\n\u001B[0;32m     43\u001B[0m \u001B[38;5;66;03m#     # Submit the tasks for parallel execution\u001B[39;00m\n\u001B[1;32m---> 44\u001B[0m results \u001B[38;5;241m=\u001B[39m \u001B[38;5;28mself\u001B[39m\u001B[38;5;241m.\u001B[39mpool\u001B[38;5;241m.\u001B[39mmap(\u001B[38;5;28mself\u001B[39m\u001B[38;5;241m.\u001B[39mtask, task_args, chunksize\u001B[38;5;241m=\u001B[39mchunksize)\n\u001B[0;32m     45\u001B[0m \u001B[38;5;28;01mreturn\u001B[39;00m results\n",
      "File \u001B[1;32m~\\anaconda3\\envs\\hamlet311\\Lib\\multiprocessing\\pool.py:367\u001B[0m, in \u001B[0;36mPool.map\u001B[1;34m(self, func, iterable, chunksize)\u001B[0m\n\u001B[0;32m    362\u001B[0m \u001B[38;5;28;01mdef\u001B[39;00m \u001B[38;5;21mmap\u001B[39m(\u001B[38;5;28mself\u001B[39m, func, iterable, chunksize\u001B[38;5;241m=\u001B[39m\u001B[38;5;28;01mNone\u001B[39;00m):\n\u001B[0;32m    363\u001B[0m \u001B[38;5;250m    \u001B[39m\u001B[38;5;124;03m'''\u001B[39;00m\n\u001B[0;32m    364\u001B[0m \u001B[38;5;124;03m    Apply `func` to each element in `iterable`, collecting the results\u001B[39;00m\n\u001B[0;32m    365\u001B[0m \u001B[38;5;124;03m    in a list that is returned.\u001B[39;00m\n\u001B[0;32m    366\u001B[0m \u001B[38;5;124;03m    '''\u001B[39;00m\n\u001B[1;32m--> 367\u001B[0m     \u001B[38;5;28;01mreturn\u001B[39;00m \u001B[38;5;28mself\u001B[39m\u001B[38;5;241m.\u001B[39m_map_async(func, iterable, mapstar, chunksize)\u001B[38;5;241m.\u001B[39mget()\n",
      "File \u001B[1;32m~\\anaconda3\\envs\\hamlet311\\Lib\\multiprocessing\\pool.py:774\u001B[0m, in \u001B[0;36mApplyResult.get\u001B[1;34m(self, timeout)\u001B[0m\n\u001B[0;32m    772\u001B[0m     \u001B[38;5;28;01mreturn\u001B[39;00m \u001B[38;5;28mself\u001B[39m\u001B[38;5;241m.\u001B[39m_value\n\u001B[0;32m    773\u001B[0m \u001B[38;5;28;01melse\u001B[39;00m:\n\u001B[1;32m--> 774\u001B[0m     \u001B[38;5;28;01mraise\u001B[39;00m \u001B[38;5;28mself\u001B[39m\u001B[38;5;241m.\u001B[39m_value\n",
      "\u001B[1;31mFileNotFoundError\u001B[0m: [Errno 2] The system cannot find the path specified: '../../results\\\\single_market\\\\grids'"
     ]
    }
   ],
   "execution_count": 18
  },
  {
   "metadata": {},
   "cell_type": "markdown",
   "source": [
    "## Step 3: Scenario Analysis\n",
    "\n",
    "Analyze and visualize the results obtained from scenario execution.\n",
    "\n",
    "The analysis provides visual insights into scenario outcomes, which helps understand scenario dynamics and performance."
   ],
   "id": "c36e8cb1ac7e45e8"
  },
  {
   "metadata": {},
   "cell_type": "code",
   "source": [
    "# Path to simulation results\n",
    "path_results = \"../../results/example_small\""
   ],
   "id": "f6071a6fa6329ed5",
   "outputs": [],
   "execution_count": null
  },
  {
   "metadata": {
    "ExecuteTime": {
     "end_time": "2025-03-25T17:13:41.337695Z",
     "start_time": "2025-03-25T17:13:41.337695Z"
    }
   },
   "cell_type": "code",
   "source": [
    "# Instantiate Analyzer and visualize results\n",
    "analyzer = Analyzer(path_results)\n",
    "analyzer.plot_general_analysis()"
   ],
   "id": "76b4578a54b10ef8",
   "outputs": [],
   "execution_count": null
  }
 ],
 "metadata": {
  "kernelspec": {
   "display_name": "Python 3",
   "language": "python",
   "name": "python3"
  },
  "language_info": {
   "codemirror_mode": {
    "name": "ipython",
    "version": 2
   },
   "file_extension": ".py",
   "mimetype": "text/x-python",
   "name": "python",
   "nbconvert_exporter": "python",
   "pygments_lexer": "ipython2",
   "version": "2.7.6"
  }
 },
 "nbformat": 4,
 "nbformat_minor": 5
}
